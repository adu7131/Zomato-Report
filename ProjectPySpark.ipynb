{
  "cells": [
    {
      "cell_type": "code",
      "execution_count": 1,
      "metadata": {
        "colab": {
          "base_uri": "https://localhost:8080/"
        },
        "id": "TZnQkur5augU",
        "outputId": "5c1b3ff2-26a3-4138-a6d1-01f51acf3267"
      },
      "outputs": [
        {
          "output_type": "stream",
          "name": "stdout",
          "text": [
            "Collecting pyspark\n",
            "  Downloading pyspark-3.4.1.tar.gz (310.8 MB)\n",
            "\u001b[2K     \u001b[90m━━━━━━━━━━━━━━━━━━━━━━━━━━━━━━━━━━━━━━━\u001b[0m \u001b[32m310.8/310.8 MB\u001b[0m \u001b[31m3.6 MB/s\u001b[0m eta \u001b[36m0:00:00\u001b[0m\n",
            "\u001b[?25h  Preparing metadata (setup.py) ... \u001b[?25l\u001b[?25hdone\n",
            "Requirement already satisfied: py4j==0.10.9.7 in /usr/local/lib/python3.10/dist-packages (from pyspark) (0.10.9.7)\n",
            "Building wheels for collected packages: pyspark\n",
            "  Building wheel for pyspark (setup.py) ... \u001b[?25l\u001b[?25hdone\n",
            "  Created wheel for pyspark: filename=pyspark-3.4.1-py2.py3-none-any.whl size=311285387 sha256=a8b31f9ee246c2c8ec5ad8ece86ecb04f682d97c7b12fc88f123b7cf81ab5ba7\n",
            "  Stored in directory: /root/.cache/pip/wheels/0d/77/a3/ff2f74cc9ab41f8f594dabf0579c2a7c6de920d584206e0834\n",
            "Successfully built pyspark\n",
            "Installing collected packages: pyspark\n",
            "Successfully installed pyspark-3.4.1\n"
          ]
        }
      ],
      "source": [
        "!pip install pyspark"
      ]
    },
    {
      "cell_type": "code",
      "execution_count": 2,
      "metadata": {
        "id": "m7--bWPJa3eF"
      },
      "outputs": [],
      "source": [
        "from pyspark.sql import SparkSession"
      ]
    },
    {
      "cell_type": "code",
      "execution_count": 3,
      "metadata": {
        "id": "A66VCGZ0bHlF"
      },
      "outputs": [],
      "source": [
        "spark=SparkSession.builder.appName('Dataframe').getOrCreate()"
      ]
    },
    {
      "cell_type": "code",
      "execution_count": 4,
      "metadata": {
        "colab": {
          "base_uri": "https://localhost:8080/",
          "height": 219
        },
        "id": "joqKFG-7bKva",
        "outputId": "b4064a74-9901-4e23-abb7-7b531adc4de3"
      },
      "outputs": [
        {
          "output_type": "execute_result",
          "data": {
            "text/plain": [
              "<pyspark.sql.session.SparkSession at 0x7a01ff6ecac0>"
            ],
            "text/html": [
              "\n",
              "            <div>\n",
              "                <p><b>SparkSession - in-memory</b></p>\n",
              "                \n",
              "        <div>\n",
              "            <p><b>SparkContext</b></p>\n",
              "\n",
              "            <p><a href=\"http://828c76cc7a27:4040\">Spark UI</a></p>\n",
              "\n",
              "            <dl>\n",
              "              <dt>Version</dt>\n",
              "                <dd><code>v3.4.1</code></dd>\n",
              "              <dt>Master</dt>\n",
              "                <dd><code>local[*]</code></dd>\n",
              "              <dt>AppName</dt>\n",
              "                <dd><code>Dataframe</code></dd>\n",
              "            </dl>\n",
              "        </div>\n",
              "        \n",
              "            </div>\n",
              "        "
            ]
          },
          "metadata": {},
          "execution_count": 4
        }
      ],
      "source": [
        "spark"
      ]
    },
    {
      "cell_type": "code",
      "execution_count": 5,
      "metadata": {
        "colab": {
          "base_uri": "https://localhost:8080/"
        },
        "id": "f3L2L8j3bQnD",
        "outputId": "089c878b-962a-4aea-aa06-1bed1b10ca3e"
      },
      "outputs": [
        {
          "output_type": "stream",
          "name": "stdout",
          "text": [
            "+---+--------------------+---------------+-------------+----------+--------------------+------------+---------+----------------+----------------------+------------+-------+------------+\n",
            "| No|     Restaurant Name|Restaurant Type|      Address|  Phone No|             Cuisine|Orders_count|Min_price|Dining_Available|Online_order_Available|Payment_Mode|Ratings|Rating_Count|\n",
            "+---+--------------------+---------------+-------------+----------+--------------------+------------+---------+----------------+----------------------+------------+-------+------------+\n",
            "|  1|           CityPride|            Veg|      Kothrud|9223344221|Indian, Chinese, ...|          45|      300|             Yes|                    No|        Both|    4.0|          40|\n",
            "|  2|              Divine|        Non-Veg| KoregaonPark|9322445555|             Biryani|          40|      290|              No|                   Yes|      Online|    2.5|          35|\n",
            "|  3|             Tiranga|  Veg & Non-Veg|      Kothrud|8513445456|Chinese,Indian,Bi...|          54|      350|             Yes|                   Yes|        Both|    4.9|          50|\n",
            "|  4|       Delhi Kitchen|  Veg & Non-Veg|        Aundh|8165661215|        North Indian|          51|      280|              No|                   Yes|        Both|    3.0|          48|\n",
            "|  5|            Marriott|        Non-Veg|       SBRoad|9933442211|Indian, Chinese, ...|          45|      250|             Yes|                    No|     Offline|    3.0|          45|\n",
            "|  6|      Vaishali Hotel|            Veg|      FC Road|9786461456|        South Indian|          64|      300|             Yes|                   Yes|        Both|    4.8|          60|\n",
            "|  7|       Regency Hotel|            Veg|        Baner|9234556622|Chinese,Indian,Bi...|          60|      350|              No|                   Yes|        Both|    5.0|          58|\n",
            "|  8|   Mandarin Oriental|            Veg|   Karvenagar|9433225511|Chinese,Indian,Bi...|          48|      280|             Yes|                   Yes|     Offline|    4.0|          47|\n",
            "|  9|  Four Seasons Hotel|        Non-Veg|       Deccan|9566333241|        North Indian|          47|      250|             Yes|                   Yes|      Online|    3.1|          47|\n",
            "| 10|       Rancho Casino|            Veg|   Vimannagar|9877664532|             Chinese|          43|      300|             Yes|                    No|      Online|    4.0|          40|\n",
            "| 11|Clarion Hotel and...|        Non-Veg|       Katraj|9654324677|Indian, Chinese, ...|          65|      350|              No|                   Yes|        Both|    4.9|          64|\n",
            "| 12|              Natraj|  Veg & Non-Veg|     Swargate|5578754655|Chinese,Indian,Bi...|          45|      300|             Yes|                   Yes|        Both|    3.5|          44|\n",
            "| 13|Continental Hotel...|        Non-Veg|     Hadapsar|9543245677|Chinese,Indian,Bi...|          58|      340|              No|                   Yes|        Both|    4.0|          57|\n",
            "| 14|    Ritz Plaza Hotel|        Non-Veg|        Wakad|9545362253|Indian, Chinese, ...|          56|      280|             Yes|                   Yes|     Offline|    4.0|          55|\n",
            "| 15|              Nisarg|        Non-Veg|    Erandwane|8451645423|Chinese,Indian,Bi...|          59|      380|             Yes|                   Yes|        Both|    4.0|          55|\n",
            "| 16|             W Hotel|            Veg|      Kondhwa|9435662245|        North Indian|          35|      300|              No|                   Yes|      Online|    3.0|          25|\n",
            "| 17|        Atmosphere 6|  Veg & Non-Veg|   Vimannagar|4484464755|             Biryani|          70|      450|             Yes|                   Yes|        Both|    5.0|          70|\n",
            "| 18|     St Regis Hotels|  Veg & Non-Veg|      Kothrud|8437463733|Fast Food, Chines...|          25|      300|             Yes|                    No|     Offline|    1.0|          23|\n",
            "| 19|               Hyatt|  Veg & Non-Veg|Kalyani nagar|7746464748|Indian, Chinese, ...|          70|      400|             Yes|                   Yes|        Both|    4.0|          65|\n",
            "| 20|           1000 Oaks|  Veg & Non-Veg|         Camp|9884687586|             Biryani|          60|      300|              No|                   Yes|      Online|    4.5|          58|\n",
            "+---+--------------------+---------------+-------------+----------+--------------------+------------+---------+----------------+----------------------+------------+-------+------------+\n",
            "only showing top 20 rows\n",
            "\n"
          ]
        }
      ],
      "source": [
        "Food=spark.read.csv('/Food_Excel.csv',header=True,inferSchema=True)\n",
        "Food.show()"
      ]
    },
    {
      "cell_type": "code",
      "source": [
        "type(Food)"
      ],
      "metadata": {
        "colab": {
          "base_uri": "https://localhost:8080/"
        },
        "id": "vkhWXNs7J-aL",
        "outputId": "01b3b9af-9dde-4449-e80e-392b3b9cfd10"
      },
      "execution_count": 6,
      "outputs": [
        {
          "output_type": "execute_result",
          "data": {
            "text/plain": [
              "pyspark.sql.dataframe.DataFrame"
            ]
          },
          "metadata": {},
          "execution_count": 6
        }
      ]
    },
    {
      "cell_type": "code",
      "execution_count": 7,
      "metadata": {
        "id": "2xdUEQDvbUIy",
        "colab": {
          "base_uri": "https://localhost:8080/"
        },
        "outputId": "aa4d2ab0-6ca5-4eaa-c555-4b0a5a46d7fb"
      },
      "outputs": [
        {
          "output_type": "execute_result",
          "data": {
            "text/plain": [
              "[Row(No=1, Restaurant Name='CityPride', Restaurant Type='Veg', Address='Kothrud', Phone No=9223344221, Cuisine='Indian, Chinese, North Indian, South Indian', Orders_count=45, Min_price=300, Dining_Available='Yes', Online_order_Available='No', Payment_Mode='Both', Ratings=4.0, Rating_Count=40),\n",
              " Row(No=2, Restaurant Name='Divine', Restaurant Type='Non-Veg', Address='KoregaonPark', Phone No=9322445555, Cuisine='Biryani', Orders_count=40, Min_price=290, Dining_Available='No', Online_order_Available='Yes', Payment_Mode='Online', Ratings=2.5, Rating_Count=35),\n",
              " Row(No=3, Restaurant Name='Tiranga', Restaurant Type='Veg & Non-Veg', Address='Kothrud', Phone No=8513445456, Cuisine='Chinese,Indian,Biryani,North Indian', Orders_count=54, Min_price=350, Dining_Available='Yes', Online_order_Available='Yes', Payment_Mode='Both', Ratings=4.9, Rating_Count=50)]"
            ]
          },
          "metadata": {},
          "execution_count": 7
        }
      ],
      "source": [
        "Food.head(3)"
      ]
    },
    {
      "cell_type": "code",
      "source": [
        "Food.tail(2)"
      ],
      "metadata": {
        "colab": {
          "base_uri": "https://localhost:8080/"
        },
        "id": "rNlybc5qKfKu",
        "outputId": "6d0abc56-a498-41db-c738-d68600a9057f"
      },
      "execution_count": 8,
      "outputs": [
        {
          "output_type": "execute_result",
          "data": {
            "text/plain": [
              "[Row(No=29, Restaurant Name='EatClub', Restaurant Type='Veg & Non-Veg', Address='Mahalunge', Phone No=6464654966, Cuisine='Fast Food, Chinese, Beverages', Orders_count=43, Min_price=260, Dining_Available='No', Online_order_Available='Yes', Payment_Mode='Online', Ratings=3.9, Rating_Count=43),\n",
              " Row(No=30, Restaurant Name='Coriender Kitchen', Restaurant Type='Veg & Non-Veg', Address='Sangamvadi', Phone No=5964464984, Cuisine='Chinese,Indian,Biryani,North Indian', Orders_count=50, Min_price=300, Dining_Available='Yes', Online_order_Available='Yes', Payment_Mode='Both', Ratings=4.9, Rating_Count=49)]"
            ]
          },
          "metadata": {},
          "execution_count": 8
        }
      ]
    },
    {
      "cell_type": "code",
      "source": [
        "Food.select('Restaurant Name','Address').show()"
      ],
      "metadata": {
        "colab": {
          "base_uri": "https://localhost:8080/"
        },
        "id": "AKokHtyeKiVq",
        "outputId": "7f4f1f43-d47f-4771-c2ab-e5e1a70f1a91"
      },
      "execution_count": 9,
      "outputs": [
        {
          "output_type": "stream",
          "name": "stdout",
          "text": [
            "+--------------------+-------------+\n",
            "|     Restaurant Name|      Address|\n",
            "+--------------------+-------------+\n",
            "|           CityPride|      Kothrud|\n",
            "|              Divine| KoregaonPark|\n",
            "|             Tiranga|      Kothrud|\n",
            "|       Delhi Kitchen|        Aundh|\n",
            "|            Marriott|       SBRoad|\n",
            "|      Vaishali Hotel|      FC Road|\n",
            "|       Regency Hotel|        Baner|\n",
            "|   Mandarin Oriental|   Karvenagar|\n",
            "|  Four Seasons Hotel|       Deccan|\n",
            "|       Rancho Casino|   Vimannagar|\n",
            "|Clarion Hotel and...|       Katraj|\n",
            "|              Natraj|     Swargate|\n",
            "|Continental Hotel...|     Hadapsar|\n",
            "|    Ritz Plaza Hotel|        Wakad|\n",
            "|              Nisarg|    Erandwane|\n",
            "|             W Hotel|      Kondhwa|\n",
            "|        Atmosphere 6|   Vimannagar|\n",
            "|     St Regis Hotels|      Kothrud|\n",
            "|               Hyatt|Kalyani nagar|\n",
            "|           1000 Oaks|         Camp|\n",
            "+--------------------+-------------+\n",
            "only showing top 20 rows\n",
            "\n"
          ]
        }
      ]
    },
    {
      "cell_type": "code",
      "source": [
        "Food.dtypes"
      ],
      "metadata": {
        "colab": {
          "base_uri": "https://localhost:8080/"
        },
        "id": "_VYr4SMKKon-",
        "outputId": "973a728e-bf0c-415c-f20c-721356efefd1"
      },
      "execution_count": 10,
      "outputs": [
        {
          "output_type": "execute_result",
          "data": {
            "text/plain": [
              "[('No', 'int'),\n",
              " ('Restaurant Name', 'string'),\n",
              " ('Restaurant Type', 'string'),\n",
              " ('Address', 'string'),\n",
              " ('Phone No', 'bigint'),\n",
              " ('Cuisine', 'string'),\n",
              " ('Orders_count', 'int'),\n",
              " ('Min_price', 'int'),\n",
              " ('Dining_Available', 'string'),\n",
              " ('Online_order_Available', 'string'),\n",
              " ('Payment_Mode', 'string'),\n",
              " ('Ratings', 'double'),\n",
              " ('Rating_Count', 'int')]"
            ]
          },
          "metadata": {},
          "execution_count": 10
        }
      ]
    },
    {
      "cell_type": "code",
      "source": [
        "Food.describe().show()"
      ],
      "metadata": {
        "colab": {
          "base_uri": "https://localhost:8080/"
        },
        "id": "dIch4DgnKrxH",
        "outputId": "992a6a7e-5456-4cc1-910a-725c05bbafd7"
      },
      "execution_count": 11,
      "outputs": [
        {
          "output_type": "stream",
          "name": "stdout",
          "text": [
            "+-------+-----------------+---------------+---------------+-------+--------------------+------------+------------------+------------------+----------------+----------------------+------------+----------------+------------------+\n",
            "|summary|               No|Restaurant Name|Restaurant Type|Address|            Phone No|     Cuisine|      Orders_count|         Min_price|Dining_Available|Online_order_Available|Payment_Mode|         Ratings|      Rating_Count|\n",
            "+-------+-----------------+---------------+---------------+-------+--------------------+------------+------------------+------------------+----------------+----------------------+------------+----------------+------------------+\n",
            "|  count|               30|             30|             30|     30|                  30|          30|                30|                30|              30|                    30|          30|              30|                30|\n",
            "|   mean|             15.5|           null|           null|   null| 8.296981675366667E9|        null|48.833333333333336| 308.3333333333333|            null|                  null|        null|            3.72| 46.56666666666667|\n",
            "| stddev|8.803408430829505|           null|           null|   null|1.5176051801679897E9|        null|12.913727882222544|49.902203208450345|            null|                  null|        null|1.00940405771135|13.174383014626983|\n",
            "|    min|                1|      1000 Oaks|        Non-Veg|  Aundh|          4484464755|     Biryani|                23|               250|              No|                    No|        Both|             1.0|                20|\n",
            "|    max|               30|        W Hotel|  Veg & Non-Veg|  Warje|          9933442211|South Indian|                70|               450|             Yes|                   Yes|      Online|             5.0|                70|\n",
            "+-------+-----------------+---------------+---------------+-------+--------------------+------------+------------------+------------------+----------------+----------------------+------------+----------------+------------------+\n",
            "\n"
          ]
        }
      ]
    },
    {
      "cell_type": "code",
      "source": [
        "### Adding Columns in data frame\n",
        "Food=Food.withColumn('how many customer not rating',Food['Orders_count']-Food['Rating_Count'])"
      ],
      "metadata": {
        "id": "gGQUDE4xKvMI"
      },
      "execution_count": 32,
      "outputs": []
    },
    {
      "cell_type": "code",
      "source": [
        "Food.show()"
      ],
      "metadata": {
        "colab": {
          "base_uri": "https://localhost:8080/"
        },
        "id": "iePPahlNK5eF",
        "outputId": "0e12ee85-f258-4cdd-e5da-678b576f2231"
      },
      "execution_count": 33,
      "outputs": [
        {
          "output_type": "stream",
          "name": "stdout",
          "text": [
            "+---+--------------------+---------------+-------------+----------+--------------------+------------+---------+----------------+----------------------+------------+-------+------------+-------------------------+----------------------------+\n",
            "| No|     Restaurant Name|Restaurant Type|      Address|  Phone No|             Cuisine|Orders_count|Min_price|Dining_Available|Online_order_Available|Payment_Mode|Ratings|Rating_Count|After Rating Bill will Be|how many customer not rating|\n",
            "+---+--------------------+---------------+-------------+----------+--------------------+------------+---------+----------------+----------------------+------------+-------+------------+-------------------------+----------------------------+\n",
            "|  1|           CityPride|            Veg|      Kothrud|9223344221|Indian, Chinese, ...|          45|      300|             Yes|                    No|        Both|    4.0|          40|                      7.2|                           5|\n",
            "|  2|              Divine|        Non-Veg| KoregaonPark|9322445555|             Biryani|          40|      290|              No|                   Yes|      Online|    2.5|          35|                      6.3|                           5|\n",
            "|  3|             Tiranga|  Veg & Non-Veg|      Kothrud|8513445456|Chinese,Indian,Bi...|          54|      350|             Yes|                   Yes|        Both|    4.9|          50|                      9.0|                           4|\n",
            "|  4|       Delhi Kitchen|  Veg & Non-Veg|        Aundh|8165661215|        North Indian|          51|      280|              No|                   Yes|        Both|    3.0|          48|                     8.64|                           3|\n",
            "|  5|            Marriott|        Non-Veg|       SBRoad|9933442211|Indian, Chinese, ...|          45|      250|             Yes|                    No|     Offline|    3.0|          45|                      8.1|                           0|\n",
            "|  6|      Vaishali Hotel|            Veg|      FC Road|9786461456|        South Indian|          64|      300|             Yes|                   Yes|        Both|    4.8|          60|                     10.8|                           4|\n",
            "|  7|       Regency Hotel|            Veg|        Baner|9234556622|Chinese,Indian,Bi...|          60|      350|              No|                   Yes|        Both|    5.0|          58|                    10.44|                           2|\n",
            "|  8|   Mandarin Oriental|            Veg|   Karvenagar|9433225511|Chinese,Indian,Bi...|          48|      280|             Yes|                   Yes|     Offline|    4.0|          47|                     8.46|                           1|\n",
            "|  9|  Four Seasons Hotel|        Non-Veg|       Deccan|9566333241|        North Indian|          47|      250|             Yes|                   Yes|      Online|    3.1|          47|                     8.46|                           0|\n",
            "| 10|       Rancho Casino|            Veg|   Vimannagar|9877664532|             Chinese|          43|      300|             Yes|                    No|      Online|    4.0|          40|                      7.2|                           3|\n",
            "| 11|Clarion Hotel and...|        Non-Veg|       Katraj|9654324677|Indian, Chinese, ...|          65|      350|              No|                   Yes|        Both|    4.9|          64|                    11.52|                           1|\n",
            "| 12|              Natraj|  Veg & Non-Veg|     Swargate|5578754655|Chinese,Indian,Bi...|          45|      300|             Yes|                   Yes|        Both|    3.5|          44|                     7.92|                           1|\n",
            "| 13|Continental Hotel...|        Non-Veg|     Hadapsar|9543245677|Chinese,Indian,Bi...|          58|      340|              No|                   Yes|        Both|    4.0|          57|                    10.26|                           1|\n",
            "| 14|    Ritz Plaza Hotel|        Non-Veg|        Wakad|9545362253|Indian, Chinese, ...|          56|      280|             Yes|                   Yes|     Offline|    4.0|          55|                      9.9|                           1|\n",
            "| 15|              Nisarg|        Non-Veg|    Erandwane|8451645423|Chinese,Indian,Bi...|          59|      380|             Yes|                   Yes|        Both|    4.0|          55|                      9.9|                           4|\n",
            "| 16|             W Hotel|            Veg|      Kondhwa|9435662245|        North Indian|          35|      300|              No|                   Yes|      Online|    3.0|          25|                      4.5|                          10|\n",
            "| 17|        Atmosphere 6|  Veg & Non-Veg|   Vimannagar|4484464755|             Biryani|          70|      450|             Yes|                   Yes|        Both|    5.0|          70|                     12.6|                           0|\n",
            "| 18|     St Regis Hotels|  Veg & Non-Veg|      Kothrud|8437463733|Fast Food, Chines...|          25|      300|             Yes|                    No|     Offline|    1.0|          23|                     4.14|                           2|\n",
            "| 19|               Hyatt|  Veg & Non-Veg|Kalyani nagar|7746464748|Indian, Chinese, ...|          70|      400|             Yes|                   Yes|        Both|    4.0|          65|                     11.7|                           5|\n",
            "| 20|           1000 Oaks|  Veg & Non-Veg|         Camp|9884687586|             Biryani|          60|      300|              No|                   Yes|      Online|    4.5|          58|                    10.44|                           2|\n",
            "+---+--------------------+---------------+-------------+----------+--------------------+------------+---------+----------------+----------------------+------------+-------+------------+-------------------------+----------------------------+\n",
            "only showing top 20 rows\n",
            "\n"
          ]
        }
      ]
    },
    {
      "cell_type": "code",
      "source": [
        "### Rename the columns\n",
        "Food.withColumnRenamed('Restaurant Name','Restaurants Name').show()"
      ],
      "metadata": {
        "colab": {
          "base_uri": "https://localhost:8080/"
        },
        "id": "5L7PqixDK-a8",
        "outputId": "c606f428-2723-4b47-b2df-d04ce0b98768"
      },
      "execution_count": 39,
      "outputs": [
        {
          "output_type": "stream",
          "name": "stdout",
          "text": [
            "+---+--------------------+---------------+-------------+----------+--------------------+------------+---------+----------------+----------------------+------------+-------+------------+-------------------------+----------------------------+\n",
            "| No|    Restaurants Name|Restaurant Type|      Address|  Phone No|             Cuisine|Orders_count|Min_price|Dining_Available|Online_order_Available|Payment_Mode|Ratings|Rating_Count|After Rating Bill will Be|how many customer not rating|\n",
            "+---+--------------------+---------------+-------------+----------+--------------------+------------+---------+----------------+----------------------+------------+-------+------------+-------------------------+----------------------------+\n",
            "|  1|           CityPride|            Veg|      Kothrud|9223344221|Indian, Chinese, ...|          45|      300|             Yes|                    No|        Both|    4.0|          40|                      7.2|                           5|\n",
            "|  2|              Divine|        Non-Veg| KoregaonPark|9322445555|             Biryani|          40|      290|              No|                   Yes|      Online|    2.5|          35|                      6.3|                           5|\n",
            "|  3|             Tiranga|  Veg & Non-Veg|      Kothrud|8513445456|Chinese,Indian,Bi...|          54|      350|             Yes|                   Yes|        Both|    4.9|          50|                      9.0|                           4|\n",
            "|  4|       Delhi Kitchen|  Veg & Non-Veg|        Aundh|8165661215|        North Indian|          51|      280|              No|                   Yes|        Both|    3.0|          48|                     8.64|                           3|\n",
            "|  5|            Marriott|        Non-Veg|       SBRoad|9933442211|Indian, Chinese, ...|          45|      250|             Yes|                    No|     Offline|    3.0|          45|                      8.1|                           0|\n",
            "|  6|      Vaishali Hotel|            Veg|      FC Road|9786461456|        South Indian|          64|      300|             Yes|                   Yes|        Both|    4.8|          60|                     10.8|                           4|\n",
            "|  7|       Regency Hotel|            Veg|        Baner|9234556622|Chinese,Indian,Bi...|          60|      350|              No|                   Yes|        Both|    5.0|          58|                    10.44|                           2|\n",
            "|  8|   Mandarin Oriental|            Veg|   Karvenagar|9433225511|Chinese,Indian,Bi...|          48|      280|             Yes|                   Yes|     Offline|    4.0|          47|                     8.46|                           1|\n",
            "|  9|  Four Seasons Hotel|        Non-Veg|       Deccan|9566333241|        North Indian|          47|      250|             Yes|                   Yes|      Online|    3.1|          47|                     8.46|                           0|\n",
            "| 10|       Rancho Casino|            Veg|   Vimannagar|9877664532|             Chinese|          43|      300|             Yes|                    No|      Online|    4.0|          40|                      7.2|                           3|\n",
            "| 11|Clarion Hotel and...|        Non-Veg|       Katraj|9654324677|Indian, Chinese, ...|          65|      350|              No|                   Yes|        Both|    4.9|          64|                    11.52|                           1|\n",
            "| 12|              Natraj|  Veg & Non-Veg|     Swargate|5578754655|Chinese,Indian,Bi...|          45|      300|             Yes|                   Yes|        Both|    3.5|          44|                     7.92|                           1|\n",
            "| 13|Continental Hotel...|        Non-Veg|     Hadapsar|9543245677|Chinese,Indian,Bi...|          58|      340|              No|                   Yes|        Both|    4.0|          57|                    10.26|                           1|\n",
            "| 14|    Ritz Plaza Hotel|        Non-Veg|        Wakad|9545362253|Indian, Chinese, ...|          56|      280|             Yes|                   Yes|     Offline|    4.0|          55|                      9.9|                           1|\n",
            "| 15|              Nisarg|        Non-Veg|    Erandwane|8451645423|Chinese,Indian,Bi...|          59|      380|             Yes|                   Yes|        Both|    4.0|          55|                      9.9|                           4|\n",
            "| 16|             W Hotel|            Veg|      Kondhwa|9435662245|        North Indian|          35|      300|              No|                   Yes|      Online|    3.0|          25|                      4.5|                          10|\n",
            "| 17|        Atmosphere 6|  Veg & Non-Veg|   Vimannagar|4484464755|             Biryani|          70|      450|             Yes|                   Yes|        Both|    5.0|          70|                     12.6|                           0|\n",
            "| 18|     St Regis Hotels|  Veg & Non-Veg|      Kothrud|8437463733|Fast Food, Chines...|          25|      300|             Yes|                    No|     Offline|    1.0|          23|                     4.14|                           2|\n",
            "| 19|               Hyatt|  Veg & Non-Veg|Kalyani nagar|7746464748|Indian, Chinese, ...|          70|      400|             Yes|                   Yes|        Both|    4.0|          65|                     11.7|                           5|\n",
            "| 20|           1000 Oaks|  Veg & Non-Veg|         Camp|9884687586|             Biryani|          60|      300|              No|                   Yes|      Online|    4.5|          58|                    10.44|                           2|\n",
            "+---+--------------------+---------------+-------------+----------+--------------------+------------+---------+----------------+----------------------+------------+-------+------------+-------------------------+----------------------------+\n",
            "only showing top 20 rows\n",
            "\n"
          ]
        }
      ]
    },
    {
      "cell_type": "code",
      "source": [
        "Food.filter(\"Min_price>=300\").show()"
      ],
      "metadata": {
        "id": "AeHu_C5POyPm",
        "colab": {
          "base_uri": "https://localhost:8080/"
        },
        "outputId": "65f6b629-a721-42c1-e6c8-1f9086ff12f2"
      },
      "execution_count": 40,
      "outputs": [
        {
          "output_type": "stream",
          "name": "stdout",
          "text": [
            "+---+--------------------+---------------+-------------+----------+--------------------+------------+---------+----------------+----------------------+------------+-------+------------+-------------------------+----------------------------+\n",
            "| No|     Restaurant Name|Restaurant Type|      Address|  Phone No|             Cuisine|Orders_count|Min_price|Dining_Available|Online_order_Available|Payment_Mode|Ratings|Rating_Count|After Rating Bill will Be|how many customer not rating|\n",
            "+---+--------------------+---------------+-------------+----------+--------------------+------------+---------+----------------+----------------------+------------+-------+------------+-------------------------+----------------------------+\n",
            "|  1|           CityPride|            Veg|      Kothrud|9223344221|Indian, Chinese, ...|          45|      300|             Yes|                    No|        Both|    4.0|          40|                      7.2|                           5|\n",
            "|  3|             Tiranga|  Veg & Non-Veg|      Kothrud|8513445456|Chinese,Indian,Bi...|          54|      350|             Yes|                   Yes|        Both|    4.9|          50|                      9.0|                           4|\n",
            "|  6|      Vaishali Hotel|            Veg|      FC Road|9786461456|        South Indian|          64|      300|             Yes|                   Yes|        Both|    4.8|          60|                     10.8|                           4|\n",
            "|  7|       Regency Hotel|            Veg|        Baner|9234556622|Chinese,Indian,Bi...|          60|      350|              No|                   Yes|        Both|    5.0|          58|                    10.44|                           2|\n",
            "| 10|       Rancho Casino|            Veg|   Vimannagar|9877664532|             Chinese|          43|      300|             Yes|                    No|      Online|    4.0|          40|                      7.2|                           3|\n",
            "| 11|Clarion Hotel and...|        Non-Veg|       Katraj|9654324677|Indian, Chinese, ...|          65|      350|              No|                   Yes|        Both|    4.9|          64|                    11.52|                           1|\n",
            "| 12|              Natraj|  Veg & Non-Veg|     Swargate|5578754655|Chinese,Indian,Bi...|          45|      300|             Yes|                   Yes|        Both|    3.5|          44|                     7.92|                           1|\n",
            "| 13|Continental Hotel...|        Non-Veg|     Hadapsar|9543245677|Chinese,Indian,Bi...|          58|      340|              No|                   Yes|        Both|    4.0|          57|                    10.26|                           1|\n",
            "| 15|              Nisarg|        Non-Veg|    Erandwane|8451645423|Chinese,Indian,Bi...|          59|      380|             Yes|                   Yes|        Both|    4.0|          55|                      9.9|                           4|\n",
            "| 16|             W Hotel|            Veg|      Kondhwa|9435662245|        North Indian|          35|      300|              No|                   Yes|      Online|    3.0|          25|                      4.5|                          10|\n",
            "| 17|        Atmosphere 6|  Veg & Non-Veg|   Vimannagar|4484464755|             Biryani|          70|      450|             Yes|                   Yes|        Both|    5.0|          70|                     12.6|                           0|\n",
            "| 18|     St Regis Hotels|  Veg & Non-Veg|      Kothrud|8437463733|Fast Food, Chines...|          25|      300|             Yes|                    No|     Offline|    1.0|          23|                     4.14|                           2|\n",
            "| 19|               Hyatt|  Veg & Non-Veg|Kalyani nagar|7746464748|Indian, Chinese, ...|          70|      400|             Yes|                   Yes|        Both|    4.0|          65|                     11.7|                           5|\n",
            "| 20|           1000 Oaks|  Veg & Non-Veg|         Camp|9884687586|             Biryani|          60|      300|              No|                   Yes|      Online|    4.5|          58|                    10.44|                           2|\n",
            "| 24|              Kokani|  Veg & Non-Veg|      Kothrud|7378929289|Chinese,Indian,Bi...|          55|      300|              No|                   Yes|        Both|    3.9|          55|                      9.9|                           0|\n",
            "| 25|The Peninsula Chi...|            Veg| ShivajiNagar|8373373833|Indian, Chinese, ...|          39|      320|             Yes|                    No|      Online|    4.0|          38|                     6.84|                           1|\n",
            "| 27|            Kondares|  Veg & Non-Veg|    Hinjawadi|7373882828|Indian, Chinese, ...|          69|      400|              No|                   Yes|        Both|    5.0|          65|                     11.7|                           4|\n",
            "| 30|   Coriender Kitchen|  Veg & Non-Veg|   Sangamvadi|5964464984|Chinese,Indian,Bi...|          50|      300|             Yes|                   Yes|        Both|    4.9|          49|                     8.82|                           1|\n",
            "+---+--------------------+---------------+-------------+----------+--------------------+------------+---------+----------------+----------------------+------------+-------+------------+-------------------------+----------------------------+\n",
            "\n"
          ]
        }
      ]
    },
    {
      "cell_type": "code",
      "source": [
        "Food.filter(\"Orders_count<=50\").select(['Restaurant Name','Address','Orders_count','Ratings']).show()"
      ],
      "metadata": {
        "colab": {
          "base_uri": "https://localhost:8080/"
        },
        "id": "n0uE0vdNX2Zz",
        "outputId": "4b75f849-67ce-418f-fdcb-af4129b50a8d"
      },
      "execution_count": 41,
      "outputs": [
        {
          "output_type": "stream",
          "name": "stdout",
          "text": [
            "+--------------------+------------+------------+-------+\n",
            "|     Restaurant Name|     Address|Orders_count|Ratings|\n",
            "+--------------------+------------+------------+-------+\n",
            "|           CityPride|     Kothrud|          45|    4.0|\n",
            "|              Divine|KoregaonPark|          40|    2.5|\n",
            "|            Marriott|      SBRoad|          45|    3.0|\n",
            "|   Mandarin Oriental|  Karvenagar|          48|    4.0|\n",
            "|  Four Seasons Hotel|      Deccan|          47|    3.1|\n",
            "|       Rancho Casino|  Vimannagar|          43|    4.0|\n",
            "|              Natraj|    Swargate|          45|    3.5|\n",
            "|             W Hotel|     Kondhwa|          35|    3.0|\n",
            "|     St Regis Hotels|     Kothrud|          25|    1.0|\n",
            "|             Belmond|       Aundh|          30|    2.0|\n",
            "|Rosewood Hotels &...|       Warje|          45|    3.0|\n",
            "|  Ritz-Carlton Hotel|    PuneCity|          31|    2.9|\n",
            "|The Peninsula Chi...|ShivajiNagar|          39|    4.0|\n",
            "| Fort Harrison Hotel|     Kharadi|          23|    2.0|\n",
            "|             Shabree|ShivajiNagar|          40|    3.8|\n",
            "|             EatClub|   Mahalunge|          43|    3.9|\n",
            "|   Coriender Kitchen|  Sangamvadi|          50|    4.9|\n",
            "+--------------------+------------+------------+-------+\n",
            "\n"
          ]
        }
      ]
    },
    {
      "cell_type": "code",
      "source": [
        "Food.filter(\"Ratings>=3\").select(['Restaurant Name','Address','Orders_count','Ratings']).show()"
      ],
      "metadata": {
        "colab": {
          "base_uri": "https://localhost:8080/"
        },
        "id": "8l0fDSVDX2hd",
        "outputId": "30dd2976-c4c5-4e73-e150-354d8b34fe5a"
      },
      "execution_count": 42,
      "outputs": [
        {
          "output_type": "stream",
          "name": "stdout",
          "text": [
            "+--------------------+-------------+------------+-------+\n",
            "|     Restaurant Name|      Address|Orders_count|Ratings|\n",
            "+--------------------+-------------+------------+-------+\n",
            "|           CityPride|      Kothrud|          45|    4.0|\n",
            "|             Tiranga|      Kothrud|          54|    4.9|\n",
            "|       Delhi Kitchen|        Aundh|          51|    3.0|\n",
            "|            Marriott|       SBRoad|          45|    3.0|\n",
            "|      Vaishali Hotel|      FC Road|          64|    4.8|\n",
            "|       Regency Hotel|        Baner|          60|    5.0|\n",
            "|   Mandarin Oriental|   Karvenagar|          48|    4.0|\n",
            "|  Four Seasons Hotel|       Deccan|          47|    3.1|\n",
            "|       Rancho Casino|   Vimannagar|          43|    4.0|\n",
            "|Clarion Hotel and...|       Katraj|          65|    4.9|\n",
            "|              Natraj|     Swargate|          45|    3.5|\n",
            "|Continental Hotel...|     Hadapsar|          58|    4.0|\n",
            "|    Ritz Plaza Hotel|        Wakad|          56|    4.0|\n",
            "|              Nisarg|    Erandwane|          59|    4.0|\n",
            "|             W Hotel|      Kondhwa|          35|    3.0|\n",
            "|        Atmosphere 6|   Vimannagar|          70|    5.0|\n",
            "|               Hyatt|Kalyani nagar|          70|    4.0|\n",
            "|           1000 Oaks|         Camp|          60|    4.5|\n",
            "|Rosewood Hotels &...|        Warje|          45|    3.0|\n",
            "|              Kokani|      Kothrud|          55|    3.9|\n",
            "+--------------------+-------------+------------+-------+\n",
            "only showing top 20 rows\n",
            "\n"
          ]
        }
      ]
    },
    {
      "cell_type": "code",
      "source": [],
      "metadata": {
        "id": "GjkIs6g6X2yY"
      },
      "execution_count": null,
      "outputs": []
    },
    {
      "cell_type": "markdown",
      "source": [
        "Null values data"
      ],
      "metadata": {
        "id": "ajGJ0K4fPAuh"
      }
    },
    {
      "cell_type": "code",
      "source": [
        "Food1 = spark.read.csv('/nullvaluedataforpyspark.txt')\n",
        "Food1.show()"
      ],
      "metadata": {
        "colab": {
          "base_uri": "https://localhost:8080/"
        },
        "id": "6_UlCIikLKXd",
        "outputId": "b0d2e83f-bdf1-4be6-a065-213a7b082814"
      },
      "execution_count": 15,
      "outputs": [
        {
          "output_type": "stream",
          "name": "stdout",
          "text": [
            "+---+--------------------+-------------+-------------+----------+--------------------+----+----+----+----+-------+----+----+\n",
            "|_c0|                 _c1|          _c2|          _c3|       _c4|                 _c5| _c6| _c7| _c8| _c9|   _c10|_c11|_c12|\n",
            "+---+--------------------+-------------+-------------+----------+--------------------+----+----+----+----+-------+----+----+\n",
            "|  1|           CityPride|         null|      Kothrud|9223344221|Indian, Chinese, ...|null| 300| Yes|  No|   Both|   4|  40|\n",
            "|  2|              Divine|      Non-Veg| KoregaonPark|9322445555|             Biryani|  40| 290|  No| Yes| Online| 2.5|  35|\n",
            "|  3|             Tiranga|Veg & Non-Veg|      Kothrud|8513445456|Chinese,Indian,Bi...|  54| 350| Yes| Yes|   Both| 4.9|  50|\n",
            "|  4|       Delhi Kitchen|Veg & Non-Veg|        Aundh|8165661215|        North Indian|  51| 280|  No| Yes|   Both|   3|  48|\n",
            "|  5|            Marriott|      Non-Veg|       SBRoad|9933442211|Indian, Chinese, ...|  45|null| Yes|  No|Offline|   3|  45|\n",
            "|  6|      Vaishali Hotel|          Veg|      FC Road|9786461456|        South Indian|  64| 300| Yes| Yes|   Both| 4.8|  60|\n",
            "|  7|       Regency Hotel|          Veg|        Baner|9234556622|Chinese,Indian,Bi...|  60| 350|  No|null|   Both|   5|  58|\n",
            "|  8|   Mandarin Oriental|          Veg|   Karvenagar|9433225511|Chinese,Indian,Bi...|  48| 280| Yes| Yes|Offline|   4|  47|\n",
            "|  9|  Four Seasons Hotel|      Non-Veg|       Deccan|9566333241|        North Indian|  47| 250|null| Yes| Online| 3.1|  47|\n",
            "| 10|       Rancho Casino|          Veg|   Vimannagar|9877664532|             Chinese|  43| 300| Yes|  No| Online|   4|  40|\n",
            "| 11|Clarion Hotel and...|      Non-Veg|       Katraj|9654324677|Indian, Chinese, ...|  65| 350|  No| Yes|   Both| 4.9|  64|\n",
            "| 12|              Natraj|Veg & Non-Veg|         null|5578754655|Chinese,Indian,Bi...|  45| 300| Yes| Yes|   Both| 3.5|  44|\n",
            "| 13|Continental Hotel...|      Non-Veg|     Hadapsar|9543245677|Chinese,Indian,Bi...|  58| 340|  No| Yes|   Both|   4|  57|\n",
            "| 14|    Ritz Plaza Hotel|      Non-Veg|        Wakad|9545362253|Indian, Chinese, ...|  56| 280| Yes| Yes|Offline|   4|  55|\n",
            "| 15|              Nisarg|      Non-Veg|    Erandwane|8451645423|Chinese,Indian,Bi...|  59| 380| Yes| Yes|   Both|   4|  55|\n",
            "| 16|             W Hotel|          Veg|      Kondhwa|9435662245|        North Indian|  35| 300|  No| Yes| Online|   3|  25|\n",
            "| 17|        Atmosphere 6|Veg & Non-Veg|   Vimannagar|4484464755|             Biryani|  70| 450| Yes| Yes|   Both|   5|  70|\n",
            "| 18|     St Regis Hotels|Veg & Non-Veg|      Kothrud|8437463733|Fast Food, Chines...|  25| 300| Yes|  No|Offline|   1|  23|\n",
            "| 19|               Hyatt|Veg & Non-Veg|Kalyani nagar|7746464748|Indian, Chinese, ...|  70| 400| Yes| Yes|   Both|   4|  65|\n",
            "| 20|           1000 Oaks|Veg & Non-Veg|         Camp|9884687586|             Biryani|  60| 300|  No| Yes| Online| 4.5|  58|\n",
            "+---+--------------------+-------------+-------------+----------+--------------------+----+----+----+----+-------+----+----+\n",
            "only showing top 20 rows\n",
            "\n"
          ]
        }
      ]
    },
    {
      "cell_type": "code",
      "source": [
        "Food1=Food1.withColumnRenamed('_c0','No')\\\n",
        ".withColumnRenamed('_c1','Restaurant Name')\\\n",
        ".withColumnRenamed('_c2','Restaurant Type')\\\n",
        ".withColumnRenamed('_c3','Address')\\\n",
        ".withColumnRenamed('_c4','Phone No')\\\n",
        ".withColumnRenamed('_c5','Cuisine')\\\n",
        ".withColumnRenamed('_c6','Orders_count')\\\n",
        ".withColumnRenamed('_c7','Min_price')\\\n",
        ".withColumnRenamed('_c8','Dining_Available')\\\n",
        ".withColumnRenamed('_c9','Online_order_Available')\\\n",
        ".withColumnRenamed('_c10','Payment_Mode')\\\n",
        ".withColumnRenamed('_c11','Ratings')\\\n",
        ".withColumnRenamed('_c12','Rating_Count')"
      ],
      "metadata": {
        "id": "DLhChAXkLT8S"
      },
      "execution_count": 16,
      "outputs": []
    },
    {
      "cell_type": "code",
      "source": [
        "Food1.show()"
      ],
      "metadata": {
        "colab": {
          "base_uri": "https://localhost:8080/"
        },
        "id": "ncJWYHjLQQ-s",
        "outputId": "54b29ded-6a39-4b64-a503-6ee65d5dd2d5"
      },
      "execution_count": 17,
      "outputs": [
        {
          "output_type": "stream",
          "name": "stdout",
          "text": [
            "+---+--------------------+---------------+-------------+----------+--------------------+------------+---------+----------------+----------------------+------------+-------+------------+\n",
            "| No|     Restaurant Name|Restaurant Type|      Address|  Phone No|             Cuisine|Orders_count|Min_price|Dining_Available|Online_order_Available|Payment_Mode|Ratings|Rating_Count|\n",
            "+---+--------------------+---------------+-------------+----------+--------------------+------------+---------+----------------+----------------------+------------+-------+------------+\n",
            "|  1|           CityPride|           null|      Kothrud|9223344221|Indian, Chinese, ...|        null|      300|             Yes|                    No|        Both|      4|          40|\n",
            "|  2|              Divine|        Non-Veg| KoregaonPark|9322445555|             Biryani|          40|      290|              No|                   Yes|      Online|    2.5|          35|\n",
            "|  3|             Tiranga|  Veg & Non-Veg|      Kothrud|8513445456|Chinese,Indian,Bi...|          54|      350|             Yes|                   Yes|        Both|    4.9|          50|\n",
            "|  4|       Delhi Kitchen|  Veg & Non-Veg|        Aundh|8165661215|        North Indian|          51|      280|              No|                   Yes|        Both|      3|          48|\n",
            "|  5|            Marriott|        Non-Veg|       SBRoad|9933442211|Indian, Chinese, ...|          45|     null|             Yes|                    No|     Offline|      3|          45|\n",
            "|  6|      Vaishali Hotel|            Veg|      FC Road|9786461456|        South Indian|          64|      300|             Yes|                   Yes|        Both|    4.8|          60|\n",
            "|  7|       Regency Hotel|            Veg|        Baner|9234556622|Chinese,Indian,Bi...|          60|      350|              No|                  null|        Both|      5|          58|\n",
            "|  8|   Mandarin Oriental|            Veg|   Karvenagar|9433225511|Chinese,Indian,Bi...|          48|      280|             Yes|                   Yes|     Offline|      4|          47|\n",
            "|  9|  Four Seasons Hotel|        Non-Veg|       Deccan|9566333241|        North Indian|          47|      250|            null|                   Yes|      Online|    3.1|          47|\n",
            "| 10|       Rancho Casino|            Veg|   Vimannagar|9877664532|             Chinese|          43|      300|             Yes|                    No|      Online|      4|          40|\n",
            "| 11|Clarion Hotel and...|        Non-Veg|       Katraj|9654324677|Indian, Chinese, ...|          65|      350|              No|                   Yes|        Both|    4.9|          64|\n",
            "| 12|              Natraj|  Veg & Non-Veg|         null|5578754655|Chinese,Indian,Bi...|          45|      300|             Yes|                   Yes|        Both|    3.5|          44|\n",
            "| 13|Continental Hotel...|        Non-Veg|     Hadapsar|9543245677|Chinese,Indian,Bi...|          58|      340|              No|                   Yes|        Both|      4|          57|\n",
            "| 14|    Ritz Plaza Hotel|        Non-Veg|        Wakad|9545362253|Indian, Chinese, ...|          56|      280|             Yes|                   Yes|     Offline|      4|          55|\n",
            "| 15|              Nisarg|        Non-Veg|    Erandwane|8451645423|Chinese,Indian,Bi...|          59|      380|             Yes|                   Yes|        Both|      4|          55|\n",
            "| 16|             W Hotel|            Veg|      Kondhwa|9435662245|        North Indian|          35|      300|              No|                   Yes|      Online|      3|          25|\n",
            "| 17|        Atmosphere 6|  Veg & Non-Veg|   Vimannagar|4484464755|             Biryani|          70|      450|             Yes|                   Yes|        Both|      5|          70|\n",
            "| 18|     St Regis Hotels|  Veg & Non-Veg|      Kothrud|8437463733|Fast Food, Chines...|          25|      300|             Yes|                    No|     Offline|      1|          23|\n",
            "| 19|               Hyatt|  Veg & Non-Veg|Kalyani nagar|7746464748|Indian, Chinese, ...|          70|      400|             Yes|                   Yes|        Both|      4|          65|\n",
            "| 20|           1000 Oaks|  Veg & Non-Veg|         Camp|9884687586|             Biryani|          60|      300|              No|                   Yes|      Online|    4.5|          58|\n",
            "+---+--------------------+---------------+-------------+----------+--------------------+------------+---------+----------------+----------------------+------------+-------+------------+\n",
            "only showing top 20 rows\n",
            "\n"
          ]
        }
      ]
    },
    {
      "cell_type": "code",
      "source": [
        "Food1.columns"
      ],
      "metadata": {
        "colab": {
          "base_uri": "https://localhost:8080/"
        },
        "id": "j_J_N1bBQUfP",
        "outputId": "593324b7-6219-4d2d-fa1d-afaedb290ed6"
      },
      "execution_count": 18,
      "outputs": [
        {
          "output_type": "execute_result",
          "data": {
            "text/plain": [
              "['No',\n",
              " 'Restaurant Name',\n",
              " 'Restaurant Type',\n",
              " 'Address',\n",
              " 'Phone No',\n",
              " 'Cuisine',\n",
              " 'Orders_count',\n",
              " 'Min_price',\n",
              " 'Dining_Available',\n",
              " 'Online_order_Available',\n",
              " 'Payment_Mode',\n",
              " 'Ratings',\n",
              " 'Rating_Count']"
            ]
          },
          "metadata": {},
          "execution_count": 18
        }
      ]
    },
    {
      "cell_type": "code",
      "source": [
        "Food1.select('Restaurant Name').show()"
      ],
      "metadata": {
        "colab": {
          "base_uri": "https://localhost:8080/"
        },
        "id": "U5vHkLexQ0zA",
        "outputId": "0acb2333-9643-4e5c-e8c7-35af9b69f05c"
      },
      "execution_count": 19,
      "outputs": [
        {
          "output_type": "stream",
          "name": "stdout",
          "text": [
            "+--------------------+\n",
            "|     Restaurant Name|\n",
            "+--------------------+\n",
            "|           CityPride|\n",
            "|              Divine|\n",
            "|             Tiranga|\n",
            "|       Delhi Kitchen|\n",
            "|            Marriott|\n",
            "|      Vaishali Hotel|\n",
            "|       Regency Hotel|\n",
            "|   Mandarin Oriental|\n",
            "|  Four Seasons Hotel|\n",
            "|       Rancho Casino|\n",
            "|Clarion Hotel and...|\n",
            "|              Natraj|\n",
            "|Continental Hotel...|\n",
            "|    Ritz Plaza Hotel|\n",
            "|              Nisarg|\n",
            "|             W Hotel|\n",
            "|        Atmosphere 6|\n",
            "|     St Regis Hotels|\n",
            "|               Hyatt|\n",
            "|           1000 Oaks|\n",
            "+--------------------+\n",
            "only showing top 20 rows\n",
            "\n"
          ]
        }
      ]
    },
    {
      "cell_type": "code",
      "source": [
        "Food1.na.drop(how=\"any\",subset=['Restaurant Name']).show()"
      ],
      "metadata": {
        "colab": {
          "base_uri": "https://localhost:8080/"
        },
        "id": "PxcTsnNTQ4Wg",
        "outputId": "3399d695-f159-40df-ccd3-e321fd57e6bf"
      },
      "execution_count": 20,
      "outputs": [
        {
          "output_type": "stream",
          "name": "stdout",
          "text": [
            "+---+--------------------+---------------+-------------+----------+--------------------+------------+---------+----------------+----------------------+------------+-------+------------+\n",
            "| No|     Restaurant Name|Restaurant Type|      Address|  Phone No|             Cuisine|Orders_count|Min_price|Dining_Available|Online_order_Available|Payment_Mode|Ratings|Rating_Count|\n",
            "+---+--------------------+---------------+-------------+----------+--------------------+------------+---------+----------------+----------------------+------------+-------+------------+\n",
            "|  1|           CityPride|           null|      Kothrud|9223344221|Indian, Chinese, ...|        null|      300|             Yes|                    No|        Both|      4|          40|\n",
            "|  2|              Divine|        Non-Veg| KoregaonPark|9322445555|             Biryani|          40|      290|              No|                   Yes|      Online|    2.5|          35|\n",
            "|  3|             Tiranga|  Veg & Non-Veg|      Kothrud|8513445456|Chinese,Indian,Bi...|          54|      350|             Yes|                   Yes|        Both|    4.9|          50|\n",
            "|  4|       Delhi Kitchen|  Veg & Non-Veg|        Aundh|8165661215|        North Indian|          51|      280|              No|                   Yes|        Both|      3|          48|\n",
            "|  5|            Marriott|        Non-Veg|       SBRoad|9933442211|Indian, Chinese, ...|          45|     null|             Yes|                    No|     Offline|      3|          45|\n",
            "|  6|      Vaishali Hotel|            Veg|      FC Road|9786461456|        South Indian|          64|      300|             Yes|                   Yes|        Both|    4.8|          60|\n",
            "|  7|       Regency Hotel|            Veg|        Baner|9234556622|Chinese,Indian,Bi...|          60|      350|              No|                  null|        Both|      5|          58|\n",
            "|  8|   Mandarin Oriental|            Veg|   Karvenagar|9433225511|Chinese,Indian,Bi...|          48|      280|             Yes|                   Yes|     Offline|      4|          47|\n",
            "|  9|  Four Seasons Hotel|        Non-Veg|       Deccan|9566333241|        North Indian|          47|      250|            null|                   Yes|      Online|    3.1|          47|\n",
            "| 10|       Rancho Casino|            Veg|   Vimannagar|9877664532|             Chinese|          43|      300|             Yes|                    No|      Online|      4|          40|\n",
            "| 11|Clarion Hotel and...|        Non-Veg|       Katraj|9654324677|Indian, Chinese, ...|          65|      350|              No|                   Yes|        Both|    4.9|          64|\n",
            "| 12|              Natraj|  Veg & Non-Veg|         null|5578754655|Chinese,Indian,Bi...|          45|      300|             Yes|                   Yes|        Both|    3.5|          44|\n",
            "| 13|Continental Hotel...|        Non-Veg|     Hadapsar|9543245677|Chinese,Indian,Bi...|          58|      340|              No|                   Yes|        Both|      4|          57|\n",
            "| 14|    Ritz Plaza Hotel|        Non-Veg|        Wakad|9545362253|Indian, Chinese, ...|          56|      280|             Yes|                   Yes|     Offline|      4|          55|\n",
            "| 15|              Nisarg|        Non-Veg|    Erandwane|8451645423|Chinese,Indian,Bi...|          59|      380|             Yes|                   Yes|        Both|      4|          55|\n",
            "| 16|             W Hotel|            Veg|      Kondhwa|9435662245|        North Indian|          35|      300|              No|                   Yes|      Online|      3|          25|\n",
            "| 17|        Atmosphere 6|  Veg & Non-Veg|   Vimannagar|4484464755|             Biryani|          70|      450|             Yes|                   Yes|        Both|      5|          70|\n",
            "| 18|     St Regis Hotels|  Veg & Non-Veg|      Kothrud|8437463733|Fast Food, Chines...|          25|      300|             Yes|                    No|     Offline|      1|          23|\n",
            "| 19|               Hyatt|  Veg & Non-Veg|Kalyani nagar|7746464748|Indian, Chinese, ...|          70|      400|             Yes|                   Yes|        Both|      4|          65|\n",
            "| 20|           1000 Oaks|  Veg & Non-Veg|         Camp|9884687586|             Biryani|          60|      300|              No|                   Yes|      Online|    4.5|          58|\n",
            "+---+--------------------+---------------+-------------+----------+--------------------+------------+---------+----------------+----------------------+------------+-------+------------+\n",
            "only showing top 20 rows\n",
            "\n"
          ]
        }
      ]
    },
    {
      "cell_type": "code",
      "source": [
        "Food1.count()"
      ],
      "metadata": {
        "colab": {
          "base_uri": "https://localhost:8080/"
        },
        "id": "_DxYJvxYQ_Gb",
        "outputId": "134e833f-bb05-4388-b4b9-c4d2e48f6d7c"
      },
      "execution_count": 21,
      "outputs": [
        {
          "output_type": "execute_result",
          "data": {
            "text/plain": [
              "30"
            ]
          },
          "metadata": {},
          "execution_count": 21
        }
      ]
    },
    {
      "cell_type": "code",
      "source": [
        "Food1.na.fill('values',['Restaurant Name']).show()"
      ],
      "metadata": {
        "id": "b10snb4lRD40",
        "colab": {
          "base_uri": "https://localhost:8080/"
        },
        "outputId": "5bedaca0-f5c7-4654-cf84-186d002008ca"
      },
      "execution_count": 22,
      "outputs": [
        {
          "output_type": "stream",
          "name": "stdout",
          "text": [
            "+---+--------------------+---------------+-------------+----------+--------------------+------------+---------+----------------+----------------------+------------+-------+------------+\n",
            "| No|     Restaurant Name|Restaurant Type|      Address|  Phone No|             Cuisine|Orders_count|Min_price|Dining_Available|Online_order_Available|Payment_Mode|Ratings|Rating_Count|\n",
            "+---+--------------------+---------------+-------------+----------+--------------------+------------+---------+----------------+----------------------+------------+-------+------------+\n",
            "|  1|           CityPride|           null|      Kothrud|9223344221|Indian, Chinese, ...|        null|      300|             Yes|                    No|        Both|      4|          40|\n",
            "|  2|              Divine|        Non-Veg| KoregaonPark|9322445555|             Biryani|          40|      290|              No|                   Yes|      Online|    2.5|          35|\n",
            "|  3|             Tiranga|  Veg & Non-Veg|      Kothrud|8513445456|Chinese,Indian,Bi...|          54|      350|             Yes|                   Yes|        Both|    4.9|          50|\n",
            "|  4|       Delhi Kitchen|  Veg & Non-Veg|        Aundh|8165661215|        North Indian|          51|      280|              No|                   Yes|        Both|      3|          48|\n",
            "|  5|            Marriott|        Non-Veg|       SBRoad|9933442211|Indian, Chinese, ...|          45|     null|             Yes|                    No|     Offline|      3|          45|\n",
            "|  6|      Vaishali Hotel|            Veg|      FC Road|9786461456|        South Indian|          64|      300|             Yes|                   Yes|        Both|    4.8|          60|\n",
            "|  7|       Regency Hotel|            Veg|        Baner|9234556622|Chinese,Indian,Bi...|          60|      350|              No|                  null|        Both|      5|          58|\n",
            "|  8|   Mandarin Oriental|            Veg|   Karvenagar|9433225511|Chinese,Indian,Bi...|          48|      280|             Yes|                   Yes|     Offline|      4|          47|\n",
            "|  9|  Four Seasons Hotel|        Non-Veg|       Deccan|9566333241|        North Indian|          47|      250|            null|                   Yes|      Online|    3.1|          47|\n",
            "| 10|       Rancho Casino|            Veg|   Vimannagar|9877664532|             Chinese|          43|      300|             Yes|                    No|      Online|      4|          40|\n",
            "| 11|Clarion Hotel and...|        Non-Veg|       Katraj|9654324677|Indian, Chinese, ...|          65|      350|              No|                   Yes|        Both|    4.9|          64|\n",
            "| 12|              Natraj|  Veg & Non-Veg|         null|5578754655|Chinese,Indian,Bi...|          45|      300|             Yes|                   Yes|        Both|    3.5|          44|\n",
            "| 13|Continental Hotel...|        Non-Veg|     Hadapsar|9543245677|Chinese,Indian,Bi...|          58|      340|              No|                   Yes|        Both|      4|          57|\n",
            "| 14|    Ritz Plaza Hotel|        Non-Veg|        Wakad|9545362253|Indian, Chinese, ...|          56|      280|             Yes|                   Yes|     Offline|      4|          55|\n",
            "| 15|              Nisarg|        Non-Veg|    Erandwane|8451645423|Chinese,Indian,Bi...|          59|      380|             Yes|                   Yes|        Both|      4|          55|\n",
            "| 16|             W Hotel|            Veg|      Kondhwa|9435662245|        North Indian|          35|      300|              No|                   Yes|      Online|      3|          25|\n",
            "| 17|        Atmosphere 6|  Veg & Non-Veg|   Vimannagar|4484464755|             Biryani|          70|      450|             Yes|                   Yes|        Both|      5|          70|\n",
            "| 18|     St Regis Hotels|  Veg & Non-Veg|      Kothrud|8437463733|Fast Food, Chines...|          25|      300|             Yes|                    No|     Offline|      1|          23|\n",
            "| 19|               Hyatt|  Veg & Non-Veg|Kalyani nagar|7746464748|Indian, Chinese, ...|          70|      400|             Yes|                   Yes|        Both|      4|          65|\n",
            "| 20|           1000 Oaks|  Veg & Non-Veg|         Camp|9884687586|             Biryani|          60|      300|              No|                   Yes|      Online|    4.5|          58|\n",
            "+---+--------------------+---------------+-------------+----------+--------------------+------------+---------+----------------+----------------------+------------+-------+------------+\n",
            "only showing top 20 rows\n",
            "\n"
          ]
        }
      ]
    },
    {
      "cell_type": "code",
      "source": [
        "Food1.na.drop(how=\"any\",subset=['Restaurant Type','Orders_count','Min_price','Dining_Available','Online_order_Available']).show()"
      ],
      "metadata": {
        "colab": {
          "base_uri": "https://localhost:8080/"
        },
        "id": "t99e9akGS3wQ",
        "outputId": "d6a73726-764a-462f-f7fd-aa98b8ba3fc6"
      },
      "execution_count": 24,
      "outputs": [
        {
          "output_type": "stream",
          "name": "stdout",
          "text": [
            "+---+--------------------+---------------+-------------+----------+--------------------+------------+---------+----------------+----------------------+------------+-------+------------+\n",
            "| No|     Restaurant Name|Restaurant Type|      Address|  Phone No|             Cuisine|Orders_count|Min_price|Dining_Available|Online_order_Available|Payment_Mode|Ratings|Rating_Count|\n",
            "+---+--------------------+---------------+-------------+----------+--------------------+------------+---------+----------------+----------------------+------------+-------+------------+\n",
            "|  2|              Divine|        Non-Veg| KoregaonPark|9322445555|             Biryani|          40|      290|              No|                   Yes|      Online|    2.5|          35|\n",
            "|  3|             Tiranga|  Veg & Non-Veg|      Kothrud|8513445456|Chinese,Indian,Bi...|          54|      350|             Yes|                   Yes|        Both|    4.9|          50|\n",
            "|  4|       Delhi Kitchen|  Veg & Non-Veg|        Aundh|8165661215|        North Indian|          51|      280|              No|                   Yes|        Both|      3|          48|\n",
            "|  6|      Vaishali Hotel|            Veg|      FC Road|9786461456|        South Indian|          64|      300|             Yes|                   Yes|        Both|    4.8|          60|\n",
            "|  8|   Mandarin Oriental|            Veg|   Karvenagar|9433225511|Chinese,Indian,Bi...|          48|      280|             Yes|                   Yes|     Offline|      4|          47|\n",
            "| 10|       Rancho Casino|            Veg|   Vimannagar|9877664532|             Chinese|          43|      300|             Yes|                    No|      Online|      4|          40|\n",
            "| 11|Clarion Hotel and...|        Non-Veg|       Katraj|9654324677|Indian, Chinese, ...|          65|      350|              No|                   Yes|        Both|    4.9|          64|\n",
            "| 12|              Natraj|  Veg & Non-Veg|         null|5578754655|Chinese,Indian,Bi...|          45|      300|             Yes|                   Yes|        Both|    3.5|          44|\n",
            "| 13|Continental Hotel...|        Non-Veg|     Hadapsar|9543245677|Chinese,Indian,Bi...|          58|      340|              No|                   Yes|        Both|      4|          57|\n",
            "| 14|    Ritz Plaza Hotel|        Non-Veg|        Wakad|9545362253|Indian, Chinese, ...|          56|      280|             Yes|                   Yes|     Offline|      4|          55|\n",
            "| 15|              Nisarg|        Non-Veg|    Erandwane|8451645423|Chinese,Indian,Bi...|          59|      380|             Yes|                   Yes|        Both|      4|          55|\n",
            "| 16|             W Hotel|            Veg|      Kondhwa|9435662245|        North Indian|          35|      300|              No|                   Yes|      Online|      3|          25|\n",
            "| 17|        Atmosphere 6|  Veg & Non-Veg|   Vimannagar|4484464755|             Biryani|          70|      450|             Yes|                   Yes|        Both|      5|          70|\n",
            "| 18|     St Regis Hotels|  Veg & Non-Veg|      Kothrud|8437463733|Fast Food, Chines...|          25|      300|             Yes|                    No|     Offline|      1|          23|\n",
            "| 19|               Hyatt|  Veg & Non-Veg|Kalyani nagar|7746464748|Indian, Chinese, ...|          70|      400|             Yes|                   Yes|        Both|      4|          65|\n",
            "| 20|           1000 Oaks|  Veg & Non-Veg|         Camp|9884687586|             Biryani|          60|      300|              No|                   Yes|      Online|    4.5|          58|\n",
            "| 21|             Belmond|            Veg|        Aundh|8474738992|             Chinese|          30|      250|              No|                   Yes|     Offline|      2|          28|\n",
            "| 22|Rosewood Hotels &...|        Non-Veg|        Warje|8337828282|Chinese,Indian,Bi...|          45|      290|             Yes|                    No|        Both|      3|          43|\n",
            "| 23|  Ritz-Carlton Hotel|            Veg|     PuneCity|8399292838|Indian, Chinese, ...|          31|      280|              No|                   Yes|     Offline|    2.9|          30|\n",
            "| 24|              Kokani|  Veg & Non-Veg|      Kothrud|7378929289|Chinese,Indian,Bi...|          55|      300|              No|                   Yes|        Both|    3.9|          55|\n",
            "+---+--------------------+---------------+-------------+----------+--------------------+------------+---------+----------------+----------------------+------------+-------+------------+\n",
            "only showing top 20 rows\n",
            "\n"
          ]
        }
      ]
    },
    {
      "cell_type": "code",
      "source": [
        "Food1.na.fill('Veg',['Restaurant Type']).show()"
      ],
      "metadata": {
        "colab": {
          "base_uri": "https://localhost:8080/"
        },
        "id": "qcKUVsL_V5pR",
        "outputId": "d777e5be-4510-456d-862a-83e816d222bd"
      },
      "execution_count": 28,
      "outputs": [
        {
          "output_type": "stream",
          "name": "stdout",
          "text": [
            "+---+--------------------+---------------+-------------+----------+--------------------+------------+---------+----------------+----------------------+------------+-------+------------+\n",
            "| No|     Restaurant Name|Restaurant Type|      Address|  Phone No|             Cuisine|Orders_count|Min_price|Dining_Available|Online_order_Available|Payment_Mode|Ratings|Rating_Count|\n",
            "+---+--------------------+---------------+-------------+----------+--------------------+------------+---------+----------------+----------------------+------------+-------+------------+\n",
            "|  1|           CityPride|            Veg|      Kothrud|9223344221|Indian, Chinese, ...|        null|      300|             Yes|                    No|        Both|      4|          40|\n",
            "|  2|              Divine|        Non-Veg| KoregaonPark|9322445555|             Biryani|          40|      290|              No|                   Yes|      Online|    2.5|          35|\n",
            "|  3|             Tiranga|  Veg & Non-Veg|      Kothrud|8513445456|Chinese,Indian,Bi...|          54|      350|             Yes|                   Yes|        Both|    4.9|          50|\n",
            "|  4|       Delhi Kitchen|  Veg & Non-Veg|        Aundh|8165661215|        North Indian|          51|      280|              No|                   Yes|        Both|      3|          48|\n",
            "|  5|            Marriott|        Non-Veg|       SBRoad|9933442211|Indian, Chinese, ...|          45|     null|             Yes|                    No|     Offline|      3|          45|\n",
            "|  6|      Vaishali Hotel|            Veg|      FC Road|9786461456|        South Indian|          64|      300|             Yes|                   Yes|        Both|    4.8|          60|\n",
            "|  7|       Regency Hotel|            Veg|        Baner|9234556622|Chinese,Indian,Bi...|          60|      350|              No|                  null|        Both|      5|          58|\n",
            "|  8|   Mandarin Oriental|            Veg|   Karvenagar|9433225511|Chinese,Indian,Bi...|          48|      280|             Yes|                   Yes|     Offline|      4|          47|\n",
            "|  9|  Four Seasons Hotel|        Non-Veg|       Deccan|9566333241|        North Indian|          47|      250|            null|                   Yes|      Online|    3.1|          47|\n",
            "| 10|       Rancho Casino|            Veg|   Vimannagar|9877664532|             Chinese|          43|      300|             Yes|                    No|      Online|      4|          40|\n",
            "| 11|Clarion Hotel and...|        Non-Veg|       Katraj|9654324677|Indian, Chinese, ...|          65|      350|              No|                   Yes|        Both|    4.9|          64|\n",
            "| 12|              Natraj|  Veg & Non-Veg|         null|5578754655|Chinese,Indian,Bi...|          45|      300|             Yes|                   Yes|        Both|    3.5|          44|\n",
            "| 13|Continental Hotel...|        Non-Veg|     Hadapsar|9543245677|Chinese,Indian,Bi...|          58|      340|              No|                   Yes|        Both|      4|          57|\n",
            "| 14|    Ritz Plaza Hotel|        Non-Veg|        Wakad|9545362253|Indian, Chinese, ...|          56|      280|             Yes|                   Yes|     Offline|      4|          55|\n",
            "| 15|              Nisarg|        Non-Veg|    Erandwane|8451645423|Chinese,Indian,Bi...|          59|      380|             Yes|                   Yes|        Both|      4|          55|\n",
            "| 16|             W Hotel|            Veg|      Kondhwa|9435662245|        North Indian|          35|      300|              No|                   Yes|      Online|      3|          25|\n",
            "| 17|        Atmosphere 6|  Veg & Non-Veg|   Vimannagar|4484464755|             Biryani|          70|      450|             Yes|                   Yes|        Both|      5|          70|\n",
            "| 18|     St Regis Hotels|  Veg & Non-Veg|      Kothrud|8437463733|Fast Food, Chines...|          25|      300|             Yes|                    No|     Offline|      1|          23|\n",
            "| 19|               Hyatt|  Veg & Non-Veg|Kalyani nagar|7746464748|Indian, Chinese, ...|          70|      400|             Yes|                   Yes|        Both|      4|          65|\n",
            "| 20|           1000 Oaks|  Veg & Non-Veg|         Camp|9884687586|             Biryani|          60|      300|              No|                   Yes|      Online|    4.5|          58|\n",
            "+---+--------------------+---------------+-------------+----------+--------------------+------------+---------+----------------+----------------------+------------+-------+------------+\n",
            "only showing top 20 rows\n",
            "\n"
          ]
        }
      ]
    },
    {
      "cell_type": "code",
      "source": [],
      "metadata": {
        "id": "Q7hAaeBNXBfm"
      },
      "execution_count": null,
      "outputs": []
    }
  ],
  "metadata": {
    "colab": {
      "provenance": []
    },
    "kernelspec": {
      "display_name": "Python 3",
      "name": "python3"
    },
    "language_info": {
      "name": "python"
    }
  },
  "nbformat": 4,
  "nbformat_minor": 0
}